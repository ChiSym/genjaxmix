{
 "cells": [
  {
   "cell_type": "markdown",
   "metadata": {},
   "source": [
    "# Jain Neal Split-Merge Moves"
   ]
  },
  {
   "cell_type": "markdown",
   "metadata": {},
   "source": [
    "## Random Split-Merge Procedure"
   ]
  },
  {
   "cell_type": "code",
   "execution_count": 28,
   "metadata": {},
   "outputs": [],
   "source": [
    "import jax\n",
    "import jax.numpy as jnp\n",
    "import matplotlib.pyplot as plt\n",
    "from dataclasses import dataclass"
   ]
  },
  {
   "cell_type": "code",
   "execution_count": 27,
   "metadata": {},
   "outputs": [],
   "source": [
    "K_max = 10\n",
    "K_true = 3\n",
    "D = 2\n",
    "N = 10\n",
    "alpha = 1.0\n",
    "sigma_hyper = 1.0\n",
    "\n",
    "key = jax.random.key(0)\n",
    "\n",
    "key, *subkeys = jax.random.split(key, 5)\n",
    "\n",
    "mu_true = jax.random.normal(subkeys[0], (K_max, D)) * sigma_hyper\n",
    "\n",
    "pi_true = jax.random.dirichlet(subkeys[1], jnp.ones(K_true)* alpha)\n",
    "pi_true = jnp.concat([pi_true, jnp.zeros(K_max-K_true)], axis=0)\n",
    "\n",
    "z_true = jax.random.categorical(subkeys[2], jnp.log(pi_true), shape=(N,))\n",
    "\n",
    "data = jax.random.normal(subkeys[3], (N,D)) + mu_true[z_true]"
   ]
  },
  {
   "cell_type": "code",
   "execution_count": 73,
   "metadata": {},
   "outputs": [
    {
     "name": "stdout",
     "output_type": "stream",
     "text": [
      "[1 1 0 0 1 1 1 1 0 1]\n",
      "A: 3.465735912322998 B: -4.094344615936279 C: 0.0\n",
      "0.53333324\n"
     ]
    },
    {
     "data": {
      "text/plain": [
       "Array([1, 1, 0, 0, 1, 1, 1, 1, 0, 1], dtype=int32)"
      ]
     },
     "execution_count": 73,
     "metadata": {},
     "output_type": "execute_result"
    }
   ],
   "source": [
    "@dataclass\n",
    "class Latent:\n",
    "    K_max: int\n",
    "    alpha: float\n",
    "    K: int\n",
    "    z: jax.Array\n",
    "\n",
    "\n",
    "def partition_log_ratio(alpha, M: int, N: int):\n",
    "    return jnp.log(alpha) - jax.scipy.special.gammaln(M+N) + jax.scipy.special.gammaln(M) + jax.scipy.special.gammaln(N)\n",
    "\n",
    "def proposal_log_ratio(M,N):\n",
    "    return jnp.log(2)*(M+N-2)\n",
    "\n",
    "def likelihood_log_ratio(data, ):\n",
    "    return 0.0\n",
    "\n",
    "def random_split(key, data, latent: Latent, i: int, j: int):\n",
    "    c_next = jnp.max(latent.z)+1\n",
    "    key, subkey = jax.random.split(key)\n",
    "    splits = jnp.where(jax.random.bernoulli(subkey, shape=(latent.z.shape[0],)), latent.z[i], c_next)\n",
    "    mask = latent.z == latent.z[i]\n",
    "    z_proposal = jnp.where(mask, splits, latent.z)\n",
    "    z_proposal = z_proposal.at[i].set(latent.z[i])\n",
    "    z_proposal = z_proposal.at[j].set(c_next)\n",
    "    \n",
    "    Ni = jnp.count_nonzero(z_proposal == latent.z[i])\n",
    "    Nj = jnp.count_nonzero(z_proposal == c_next)\n",
    "\n",
    "    A = proposal_log_ratio(Ni,Nj)\n",
    "    B = partition_log_ratio(alpha, Ni, Nj)\n",
    "    C = likelihood_log_ratio(1,1)\n",
    "    print(f\"A: {A} B: {B} C: {C}\")\n",
    "\n",
    "    a = jnp.exp(min(0, A + B + C))\n",
    "    print(a)\n",
    "    key, subkey = jax.random.split(key)\n",
    "    u = jax.random.uniform(subkey)\n",
    "    z_new = jnp.where(u < a, z_proposal, latent.z)\n",
    "    return z_new\n",
    "\n",
    "\n",
    "key = jax.random.key(2)\n",
    "latent = Latent(K_max, alpha, 2, jax.random.categorical(key, jnp.ones(2), shape=(N,)))\n",
    "print(latent.z)\n",
    "random_split(key, data, latent, 0, 1)"
   ]
  }
 ],
 "metadata": {
  "kernelspec": {
   "display_name": ".venv",
   "language": "python",
   "name": "python3"
  },
  "language_info": {
   "codemirror_mode": {
    "name": "ipython",
    "version": 3
   },
   "file_extension": ".py",
   "mimetype": "text/x-python",
   "name": "python",
   "nbconvert_exporter": "python",
   "pygments_lexer": "ipython3",
   "version": "3.12.5"
  }
 },
 "nbformat": 4,
 "nbformat_minor": 2
}
